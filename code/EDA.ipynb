import pandas as pd
import numpy as np
import matplotlib.pyplot as plt
import seaborn as sns

# Load dataset
file_path = "kc_house_data.csv"  # Adjust path as needed
df = pd.read_csv(file_path)

# Display basic dataset info
print("Dataset Information:")
df.info()
print("\nFirst few rows of data:")
print(df.head())

# Convert date column to datetime format
df['date'] = pd.to_datetime(df['date'], format='%Y%m%dT%H%M%S')

# Check missing values
print("\nMissing values:")
print(df.isnull().sum())

# Summary statistics
print("\nSummary statistics:")
print(df.describe())

# Price distribution
plt.figure(figsize=(10,5))
sns.histplot(df['price'], bins=50, kde=True, color='blue')
plt.title("Distribution of House Prices")
plt.xlabel("Price")
plt.ylabel("Frequency")
plt.show()

# Correlation heatmap
plt.figure(figsize=(12,8))
sns.heatmap(df.corr(), annot=True, cmap='coolwarm', fmt='.2f')
plt.title("Feature Correlation Heatmap")
plt.show()

# Scatter plot: Living area vs. Price
plt.figure(figsize=(8,5))
sns.scatterplot(x=df['sqft_living'], y=df['price'], alpha=0.5)
plt.title("Living Area vs. House Price")
plt.xlabel("Square Feet of Living Space")
plt.ylabel("Price")
plt.show()

# Save processed data
df.to_csv("kc_house_cleaned.csv", index=False)
